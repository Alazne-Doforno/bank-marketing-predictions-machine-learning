{
 "cells": [
  {
   "cell_type": "markdown",
   "metadata": {},
   "source": [
    "## Memoria - Bank marketing predictions - Desarrollo de modelos predictivos para la suscripción de depósitos a plazo bancario"
   ]
  },
  {
   "cell_type": "markdown",
   "metadata": {},
   "source": [
    "## Introducción\n",
    "\n",
    "Como parte del Bootcamp de Data Science de The Bridge, he desarrollado este proyecto de Machine Learning con el fin de llevar a cabo un análisis exhaustivo de una campaña de marketing directo realizada por una entidad bancaria portuguesa. El objetivo central del proyecto se centra en la construcción de dos modelos predictivos con el propósito de optimizar la selección de contactos para la promoción de depósitos a plazo fijo a través de una campaña telefónica.\n",
    "\n",
    "\n",
    "## Objetivo del Proyecto\n",
    "\n",
    "El propósito fundamental de este proyecto es identificar patrones y factores determinantes que optimicen la estrategia de contacto para la contratación de depósitos a plazo fijo. A través de técnicas de Machine Learning, se busca mejorar la efectividad de la campaña y definir el perfil del cliente objetivo de manera más precisa.\n",
    "\n",
    "## Desarrollo y Resultados\n",
    "\n",
    "El proceso de desarrollo comprendió una serie de etapas, comenzando con una exhaustiva exploración de datos que me proporcionó una comprensión profunda de las características presentes en el conjunto de datos. Se llevaron a cabo tareas de preprocesamiento o feature enginering para preparar los datos para su entrada en los modelos predictivos.\n",
    "\n",
    "La selección y ajuste de los modelos han sido pasos fundamentales, y se ha realizado gracias a diversos pipelines y GridSearch para al final dar con dos modelos; uno utilizando Gradient Boosting y, el otro, XGBoost. \n",
    "\n",
    "\n",
    "## Desafíos y Limitaciones\n",
    "\n",
    "A lo largo del proceso, me he encontrado con diversos desafíos y limitaciones que han influido en el desarrollo y evaluación del proyecto. Las más relevantes han sido 2:\n",
    "\n",
    "* La elección de las métricas clave para evaluar la efectividad del modelo ha sido un desafío significativo. Determinar la métrica más adecuada para medir el rendimiento del modelo y alinearla con los objetivos específicos del proyecto requirió una cuidadosa consideración.\n",
    "\n",
    "* Otro desafío destacado fue el desbalance presente en el conjunto de datos. La distribución desigual entre las clases afectó la capacidad del modelo para generalizar y predecir con precisión las instancias de la clase minoritaria. Abordar esta desigualdad y mitigar su impacto en la calidad de las predicciones fue un aspecto crucial del trabajo.\n",
    "\n",
    "Estos desafíos, aunque han añadido complejidad al proyecto, también han proporcionado oportunidades para aprender y aplicar estrategias efectivas en la resolución de problemas comunes en el ámbito del Machine Learning.\n",
    "\n",
    "\n",
    "\n",
    "\n",
    "\n",
    "\n"
   ]
  }
 ],
 "metadata": {
  "language_info": {
   "name": "python"
  },
  "orig_nbformat": 4
 },
 "nbformat": 4,
 "nbformat_minor": 2
}
